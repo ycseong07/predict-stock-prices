{
 "cells": [
  {
   "cell_type": "code",
   "execution_count": 26,
   "id": "f340730a-f85d-4130-bd72-eb71c149e9f1",
   "metadata": {},
   "outputs": [],
   "source": [
    "from pyspark.sql import SparkSession\n",
    "from pyspark.sql.functions import *\n",
    "from pyspark.sql.types import *"
   ]
  },
  {
   "cell_type": "code",
   "execution_count": 33,
   "id": "b1ca090b-7095-4868-808d-cb3c8c403930",
   "metadata": {},
   "outputs": [
    {
     "name": "stderr",
     "output_type": "stream",
     "text": [
      "WARNING: An illegal reflective access operation has occurred\n",
      "WARNING: Illegal reflective access by org.apache.spark.unsafe.Platform (file:/usr/local/spark-3.1.2-bin-hadoop3.2/jars/spark-unsafe_2.12-3.1.2.jar) to constructor java.nio.DirectByteBuffer(long,int)\n",
      "WARNING: Please consider reporting this to the maintainers of org.apache.spark.unsafe.Platform\n",
      "WARNING: Use --illegal-access=warn to enable warnings of further illegal reflective access operations\n",
      "WARNING: All illegal access operations will be denied in a future release\n",
      "22/05/05 05:21:59 WARN NativeCodeLoader: Unable to load native-hadoop library for your platform... using builtin-java classes where applicable\n",
      "Using Spark's default log4j profile: org/apache/spark/log4j-defaults.properties\n",
      "Setting default log level to \"WARN\".\n",
      "To adjust logging level use sc.setLogLevel(newLevel). For SparkR, use setLogLevel(newLevel).\n"
     ]
    }
   ],
   "source": [
    "spark = SparkSession \\\n",
    "    .builder \\\n",
    "    .appName(\"readfromcsv\") \\\n",
    "    .master(\"local[4]\") \\\n",
    "    .getOrCreate()"
   ]
  },
  {
   "cell_type": "code",
   "execution_count": 41,
   "id": "6fe288d3-2195-4034-a325-d5c624c40b6e",
   "metadata": {},
   "outputs": [],
   "source": [
    "schema1 = StructType([StructField(\"Age\", IntegerType(), True),\n",
    "                      StructField(\"Sex\", StringType(), True),\n",
    "                      StructField(\"BP\", StringType(), True),\n",
    "                      StructField(\"Cholesterol\", StringType(), True),\n",
    "                      StructField(\"Na_to_K\", IntegerType(), True),\n",
    "                      StructField(\"Drug\", StringType(), True)\n",
    "                     ])"
   ]
  },
  {
   "cell_type": "code",
   "execution_count": 42,
   "id": "e9b5b002-5deb-4598-9dc3-bb2bc152b17f",
   "metadata": {},
   "outputs": [],
   "source": [
    "customer = spark.readStream.format(\"csv\").schema(schema1)\\\n",
    "    .option(\"header\", True).option(\"maxFilePerTrigger\", 1)\\\n",
    "    .load(r\"../data/streaming\")"
   ]
  },
  {
   "cell_type": "code",
   "execution_count": 43,
   "id": "81312581-5fb8-4ace-b915-e5850d1d02d8",
   "metadata": {},
   "outputs": [
    {
     "data": {
      "text/plain": [
       "True"
      ]
     },
     "execution_count": 43,
     "metadata": {},
     "output_type": "execute_result"
    }
   ],
   "source": [
    "customer.isStreaming"
   ]
  },
  {
   "cell_type": "code",
   "execution_count": 44,
   "id": "4f64c72b-363c-43cb-8240-5b34297032a8",
   "metadata": {},
   "outputs": [
    {
     "name": "stdout",
     "output_type": "stream",
     "text": [
      "root\n",
      " |-- Age: integer (nullable = true)\n",
      " |-- Sex: string (nullable = true)\n",
      " |-- BP: string (nullable = true)\n",
      " |-- Cholesterol: string (nullable = true)\n",
      " |-- Na_to_K: integer (nullable = true)\n",
      " |-- Drug: string (nullable = true)\n",
      "\n"
     ]
    }
   ],
   "source": [
    "customer.printSchema()"
   ]
  },
  {
   "cell_type": "code",
   "execution_count": 45,
   "id": "e906a897-2bb8-4ab8-92b4-5069f34440da",
   "metadata": {},
   "outputs": [],
   "source": [
    "average_age = customer.groupBy(\"Sex\")\\\n",
    "    .agg((avg(\"Age\").alias(\"average_age\")), (count(\"Sex\").alias(\"count\")))\\\n",
    "    .sort(desc(\"average_age\"))"
   ]
  },
  {
   "cell_type": "code",
   "execution_count": 46,
   "id": "ed2733b4-8037-4ee2-9284-af01e6eb9f63",
   "metadata": {},
   "outputs": [
    {
     "name": "stderr",
     "output_type": "stream",
     "text": [
      "22/05/05 05:27:56 WARN StreamingQueryManager: Temporary checkpoint location created which is deleted normally when the query didn't fail: /tmp/temporary-8b142dd8-a42a-4bdc-bb2c-1c279cc564d6. If it's required to delete it under any circumstances, please set spark.sql.streaming.forceDeleteTempCheckpointLocation to true. Important to know deleting temp checkpoint folder is best effort.\n",
      "                                                                                \r"
     ]
    },
    {
     "name": "stdout",
     "output_type": "stream",
     "text": [
      "-------------------------------------------\n",
      "Batch: 0\n",
      "-------------------------------------------\n",
      "+---+-----------------+-----+\n",
      "|Sex|      average_age|count|\n",
      "+---+-----------------+-----+\n",
      "|  M|45.93269230769231|  104|\n",
      "|  F|          42.5625|   96|\n",
      "+---+-----------------+-----+\n",
      "\n"
     ]
    }
   ],
   "source": [
    "query = average_age.writeStream.format(\"console\").outputMode(\"complete\").start()"
   ]
  },
  {
   "cell_type": "code",
   "execution_count": null,
   "id": "85f3d5a1-1560-4e2c-a923-b481d2e31544",
   "metadata": {},
   "outputs": [],
   "source": []
  }
 ],
 "metadata": {
  "kernelspec": {
   "display_name": "Python 3 (ipykernel)",
   "language": "python",
   "name": "python3"
  },
  "language_info": {
   "codemirror_mode": {
    "name": "ipython",
    "version": 3
   },
   "file_extension": ".py",
   "mimetype": "text/x-python",
   "name": "python",
   "nbconvert_exporter": "python",
   "pygments_lexer": "ipython3",
   "version": "3.9.12"
  }
 },
 "nbformat": 4,
 "nbformat_minor": 5
}
